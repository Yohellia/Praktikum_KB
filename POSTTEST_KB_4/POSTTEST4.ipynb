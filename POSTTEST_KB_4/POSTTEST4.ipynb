{
 "cells": [
  {
   "cell_type": "markdown",
   "id": "e0160ce0-23c9-4820-9607-63d20271e3b6",
   "metadata": {},
   "source": [
    "## **NAMA : SHELOMITA YOHELLIA**\n",
    "## **NIM : 2209106019**\n",
    "## **KELAS : A1 2022**\n",
    "\n",
    "# **POSTTEST 4 KECERDASAN BUATAN**"
   ]
  },
  {
   "cell_type": "markdown",
   "id": "77447286-8a8b-454e-b488-d43bf8392826",
   "metadata": {},
   "source": [
    "#### Import semua library yang digunakan"
   ]
  },
  {
   "cell_type": "code",
   "execution_count": 47,
   "id": "b880d058-3f31-44cc-ad4b-294926b47acc",
   "metadata": {},
   "outputs": [],
   "source": [
    "from sklearn.impute import SimpleImputer\n",
    "from sklearn.preprocessing import StandardScaler\n",
    "from sklearn.preprocessing import MinMaxScaler\n",
    "from sklearn.preprocessing import OrdinalEncoder\n",
    "from sklearn.preprocessing import OneHotEncoder\n",
    "from sklearn.model_selection import train_test_split\n",
    "import pandas as pd"
   ]
  },
  {
   "cell_type": "markdown",
   "id": "e6f8e5d3-fdc3-4ea9-8326-badca881ea56",
   "metadata": {},
   "source": [
    "#### Buka file csv. Karna disini data saya banyak sehigga saya membuat variable yang didalamnya terdapat sample = 2000"
   ]
  },
  {
   "cell_type": "code",
   "execution_count": 48,
   "id": "7d36f409-62d1-48bc-a7a0-36f51f1a7b94",
   "metadata": {},
   "outputs": [],
   "source": [
    "df = pd.read_csv('PS_20174392719_1491204439457_log.csv')\n",
    "shelom = df.sample(n=2000)"
   ]
  },
  {
   "cell_type": "markdown",
   "id": "0049ae04-22d6-4238-94d3-d1bfaa940a79",
   "metadata": {},
   "source": [
    "## DATA SPLIT\n",
    "#### Bagi dataset menjadi **training set** dan **testing set** dengan proporsi **70:30**"
   ]
  },
  {
   "cell_type": "code",
   "execution_count": 49,
   "id": "5e3104ab-4534-4bf7-ae67-290f406abde6",
   "metadata": {},
   "outputs": [],
   "source": [
    "# 'x' digunakan untuk melatih model, 'y' digunakan untuk seberapa baik model memprediksi nilai\n",
    "x = shelom.drop(columns = 'isFraud')\n",
    "y = shelom['isFraud']"
   ]
  },
  {
   "cell_type": "code",
   "execution_count": 50,
   "id": "8f04f469-bac5-4997-a25c-9559e54136b5",
   "metadata": {},
   "outputs": [],
   "source": [
    "# Memisahkan data menjadi training set dan testing set\n",
    "x_train, x_test, y_train, y_test = train_test_split(x, y, test_size = 0.3, random_state = 42)"
   ]
  },
  {
   "cell_type": "code",
   "execution_count": 51,
   "id": "b2b2c5fb-f6f8-42fe-bb40-e0b04ffbc7de",
   "metadata": {},
   "outputs": [
    {
     "name": "stdout",
     "output_type": "stream",
     "text": [
      "(1400, 10)\n",
      "(600, 10)\n",
      "(1400,)\n",
      "(600,)\n"
     ]
    }
   ],
   "source": [
    "# Mencetak bentuk (shape) dari x_train, x_test, y_train, y_test\n",
    "print(x_train.shape)\n",
    "print(x_test.shape)\n",
    "print(y_train.shape)\n",
    "print(y_test.shape)"
   ]
  },
  {
   "cell_type": "markdown",
   "id": "be62ce9e-d4e3-445d-ab8b-13e2b58e3fad",
   "metadata": {},
   "source": [
    "## NORMALISASI\n",
    "#### Normalisasi data pada salah satu attribute menggunakan **Min Max Scaler**"
   ]
  },
  {
   "cell_type": "code",
   "execution_count": 52,
   "id": "5f8711dc-67e2-44b0-bb30-d8ccf2d6d65e",
   "metadata": {},
   "outputs": [],
   "source": [
    "df = pd.read_csv('PS_20174392719_1491204439457_log-Copy1.csv')\n",
    "shelom1 = df.sample(n=2000)"
   ]
  },
  {
   "cell_type": "code",
   "execution_count": 53,
   "id": "ada15fca-546c-4c40-99dc-69d1726262d8",
   "metadata": {},
   "outputs": [
    {
     "name": "stderr",
     "output_type": "stream",
     "text": [
      "C:\\Users\\Shelom\\AppData\\Roaming\\Python\\Python310\\site-packages\\sklearn\\utils\\validation.py:767: FutureWarning: is_sparse is deprecated and will be removed in a future version. Check `isinstance(dtype, pd.SparseDtype)` instead.\n",
      "  if not hasattr(array, \"sparse\") and array.dtypes.apply(is_sparse).any():\n",
      "C:\\Users\\Shelom\\AppData\\Roaming\\Python\\Python310\\site-packages\\sklearn\\utils\\validation.py:605: FutureWarning: is_sparse is deprecated and will be removed in a future version. Check `isinstance(dtype, pd.SparseDtype)` instead.\n",
      "  if is_sparse(pd_dtype):\n",
      "C:\\Users\\Shelom\\AppData\\Roaming\\Python\\Python310\\site-packages\\sklearn\\utils\\validation.py:614: FutureWarning: is_sparse is deprecated and will be removed in a future version. Check `isinstance(dtype, pd.SparseDtype)` instead.\n",
      "  if is_sparse(pd_dtype) or not is_extension_array_dtype(pd_dtype):\n",
      "C:\\Users\\Shelom\\AppData\\Roaming\\Python\\Python310\\site-packages\\sklearn\\utils\\validation.py:767: FutureWarning: is_sparse is deprecated and will be removed in a future version. Check `isinstance(dtype, pd.SparseDtype)` instead.\n",
      "  if not hasattr(array, \"sparse\") and array.dtypes.apply(is_sparse).any():\n",
      "C:\\Users\\Shelom\\AppData\\Roaming\\Python\\Python310\\site-packages\\sklearn\\utils\\validation.py:605: FutureWarning: is_sparse is deprecated and will be removed in a future version. Check `isinstance(dtype, pd.SparseDtype)` instead.\n",
      "  if is_sparse(pd_dtype):\n",
      "C:\\Users\\Shelom\\AppData\\Roaming\\Python\\Python310\\site-packages\\sklearn\\utils\\validation.py:614: FutureWarning: is_sparse is deprecated and will be removed in a future version. Check `isinstance(dtype, pd.SparseDtype)` instead.\n",
      "  if is_sparse(pd_dtype) or not is_extension_array_dtype(pd_dtype):\n"
     ]
    }
   ],
   "source": [
    "# Inisialisasi MinMaxScaler\n",
    "mx = MinMaxScaler()\n",
    "\n",
    "# Kolom=kolom yang akan di normalisasi\n",
    "shelom1[['step', 'amount', 'oldbalanceOrg', 'newbalanceOrig', 'oldbalanceDest', 'newbalanceDest', 'isFraud', 'isFlaggedFraud']] = mx.fit_transform(shelom1[['step', 'amount', 'oldbalanceOrg', 'newbalanceOrig', 'oldbalanceDest', 'newbalanceDest', 'isFraud', 'isFlaggedFraud']])"
   ]
  },
  {
   "cell_type": "code",
   "execution_count": 54,
   "id": "15399892-c9ad-4c2b-adf5-893e9c99e479",
   "metadata": {},
   "outputs": [
    {
     "data": {
      "text/plain": [
       "1.0"
      ]
     },
     "execution_count": 54,
     "metadata": {},
     "output_type": "execute_result"
    }
   ],
   "source": [
    "# Menemukan nilai Max dalam kolom 'isFraud' dalam DataFrame 'shelom1'\n",
    "shelom1['isFraud'].max()"
   ]
  },
  {
   "cell_type": "code",
   "execution_count": 55,
   "id": "9b7f3439-d933-4da1-a17d-2f61fed0b8f3",
   "metadata": {},
   "outputs": [
    {
     "data": {
      "text/plain": [
       "0.0"
      ]
     },
     "execution_count": 55,
     "metadata": {},
     "output_type": "execute_result"
    }
   ],
   "source": [
    "# Menemukan nilai Min dalam kolom 'isFraud' dalam DataFrame 'shelom1'\n",
    "shelom1['isFraud'].min()"
   ]
  },
  {
   "cell_type": "markdown",
   "id": "09cbc822-dd8c-4cff-b826-371aeea8c470",
   "metadata": {},
   "source": [
    "## STANDARISASI"
   ]
  },
  {
   "cell_type": "code",
   "execution_count": 56,
   "id": "e30028f7-2796-4749-ae2b-fd098f3909f4",
   "metadata": {},
   "outputs": [
    {
     "name": "stdout",
     "output_type": "stream",
     "text": [
      "<class 'pandas.core.frame.DataFrame'>\n",
      "Index: 2000 entries, 667475 to 2209347\n",
      "Data columns (total 11 columns):\n",
      " #   Column          Non-Null Count  Dtype  \n",
      "---  ------          --------------  -----  \n",
      " 0   step            2000 non-null   float64\n",
      " 1   type            2000 non-null   object \n",
      " 2   amount          2000 non-null   float64\n",
      " 3   nameOrig        2000 non-null   object \n",
      " 4   oldbalanceOrg   2000 non-null   float64\n",
      " 5   newbalanceOrig  2000 non-null   float64\n",
      " 6   nameDest        2000 non-null   object \n",
      " 7   oldbalanceDest  2000 non-null   float64\n",
      " 8   newbalanceDest  2000 non-null   float64\n",
      " 9   isFraud         2000 non-null   float64\n",
      " 10  isFlaggedFraud  2000 non-null   float64\n",
      "dtypes: float64(8), object(3)\n",
      "memory usage: 187.5+ KB\n"
     ]
    }
   ],
   "source": [
    "shelom1.info()"
   ]
  },
  {
   "cell_type": "code",
   "execution_count": 57,
   "id": "1b8b34e2-40e3-4618-be03-efe2df641aef",
   "metadata": {},
   "outputs": [
    {
     "name": "stderr",
     "output_type": "stream",
     "text": [
      "C:\\Users\\Shelom\\AppData\\Roaming\\Python\\Python310\\site-packages\\sklearn\\utils\\validation.py:767: FutureWarning: is_sparse is deprecated and will be removed in a future version. Check `isinstance(dtype, pd.SparseDtype)` instead.\n",
      "  if not hasattr(array, \"sparse\") and array.dtypes.apply(is_sparse).any():\n",
      "C:\\Users\\Shelom\\AppData\\Roaming\\Python\\Python310\\site-packages\\sklearn\\utils\\validation.py:605: FutureWarning: is_sparse is deprecated and will be removed in a future version. Check `isinstance(dtype, pd.SparseDtype)` instead.\n",
      "  if is_sparse(pd_dtype):\n",
      "C:\\Users\\Shelom\\AppData\\Roaming\\Python\\Python310\\site-packages\\sklearn\\utils\\validation.py:614: FutureWarning: is_sparse is deprecated and will be removed in a future version. Check `isinstance(dtype, pd.SparseDtype)` instead.\n",
      "  if is_sparse(pd_dtype) or not is_extension_array_dtype(pd_dtype):\n",
      "C:\\Users\\Shelom\\AppData\\Roaming\\Python\\Python310\\site-packages\\sklearn\\utils\\validation.py:767: FutureWarning: is_sparse is deprecated and will be removed in a future version. Check `isinstance(dtype, pd.SparseDtype)` instead.\n",
      "  if not hasattr(array, \"sparse\") and array.dtypes.apply(is_sparse).any():\n",
      "C:\\Users\\Shelom\\AppData\\Roaming\\Python\\Python310\\site-packages\\sklearn\\utils\\validation.py:605: FutureWarning: is_sparse is deprecated and will be removed in a future version. Check `isinstance(dtype, pd.SparseDtype)` instead.\n",
      "  if is_sparse(pd_dtype):\n",
      "C:\\Users\\Shelom\\AppData\\Roaming\\Python\\Python310\\site-packages\\sklearn\\utils\\validation.py:614: FutureWarning: is_sparse is deprecated and will be removed in a future version. Check `isinstance(dtype, pd.SparseDtype)` instead.\n",
      "  if is_sparse(pd_dtype) or not is_extension_array_dtype(pd_dtype):\n"
     ]
    }
   ],
   "source": [
    "# Inisialisasi StandardScaler\n",
    "slr = StandardScaler()\n",
    "\n",
    "# Kolom yang akan distandarisasi\n",
    "shelom1[['step', 'amount', 'oldbalanceOrg', 'newbalanceOrig', 'oldbalanceDest', 'newbalanceDest', 'isFraud', 'isFlaggedFraud']] = slr.fit_transform(shelom1[['step', 'amount', 'oldbalanceOrg', 'newbalanceOrig', 'oldbalanceDest', 'newbalanceDest', 'isFraud', 'isFlaggedFraud']])"
   ]
  },
  {
   "cell_type": "markdown",
   "id": "dc4ead7d-c9a9-4b54-9de3-0ac8ae88cb6a",
   "metadata": {},
   "source": [
    "## DATA CLEANING\n",
    "#### **Data cleaning** pada data dengan **nilai null**"
   ]
  },
  {
   "cell_type": "code",
   "execution_count": 58,
   "id": "37a98783-dcee-4478-bdf3-a27dc989e771",
   "metadata": {},
   "outputs": [],
   "source": [
    "df = pd.read_csv('PS_20174392719_1491204439457_log-Copy2.csv')\n",
    "shelom2 = df.sample(n=2000)"
   ]
  },
  {
   "cell_type": "code",
   "execution_count": 59,
   "id": "08682ca2-8cb1-4f77-8728-718a4520ef10",
   "metadata": {},
   "outputs": [],
   "source": [
    "# Menentukan persentase nilai yang ingin diubah menjadi null \n",
    "persentase_null = 0.2"
   ]
  },
  {
   "cell_type": "code",
   "execution_count": 60,
   "id": "2958ddce-70d4-455f-90b1-0c4649be493f",
   "metadata": {},
   "outputs": [],
   "source": [
    "# Menghitung jumlah baris yang akan diubah menjadi null\n",
    "jumlah_baris_null = int(persentase_null * len(shelom2))"
   ]
  },
  {
   "cell_type": "code",
   "execution_count": 61,
   "id": "80f6c464-2c25-42cd-bc36-5dd86732aabd",
   "metadata": {},
   "outputs": [],
   "source": [
    "# Memilih secara acak index baris yang akan di ubah menjadi null\n",
    "baris_null = shelom2.sample(n=jumlah_baris_null).index"
   ]
  },
  {
   "cell_type": "code",
   "execution_count": 62,
   "id": "4f5e83a9-a68f-406d-88b3-f58184adff35",
   "metadata": {},
   "outputs": [],
   "source": [
    "# Mengatur beberapa nilai menjadi null (NaN)\n",
    "shelom2.loc[baris_null, 'step'] = pd.NA\n",
    "shelom2.loc[baris_null, 'amount'] = pd.NA"
   ]
  },
  {
   "cell_type": "code",
   "execution_count": 63,
   "id": "8f986c61-1a27-4ef7-8ba0-1d67a387b486",
   "metadata": {},
   "outputs": [
    {
     "data": {
      "text/plain": [
       "step              400\n",
       "type                0\n",
       "amount            400\n",
       "nameOrig            0\n",
       "oldbalanceOrg       0\n",
       "newbalanceOrig      0\n",
       "nameDest            0\n",
       "oldbalanceDest      0\n",
       "newbalanceDest      0\n",
       "isFraud             0\n",
       "isFlaggedFraud      0\n",
       "dtype: int64"
      ]
     },
     "execution_count": 63,
     "metadata": {},
     "output_type": "execute_result"
    }
   ],
   "source": [
    "# Memeriksa baris yang memiliki nilai null pada DataFrame\n",
    "shelom2.isnull().sum()"
   ]
  },
  {
   "cell_type": "markdown",
   "id": "cfb0d555-3dfd-4455-ba41-22a6024ff228",
   "metadata": {},
   "source": [
    "#### Mengganti **nilai NULL** dengan menggunakan **rata-rata**"
   ]
  },
  {
   "cell_type": "code",
   "execution_count": 64,
   "id": "b28e6a7f-a416-48a1-98e1-b9b830465c23",
   "metadata": {},
   "outputs": [],
   "source": [
    "# Mengganti nilai null dengan nilai rata-rata\n",
    "rata_rata = shelom2['step'].mean()\n",
    "shelom2['step'] = shelom2['step'].fillna(rata_rata)"
   ]
  },
  {
   "cell_type": "code",
   "execution_count": 65,
   "id": "9e58a7af-1b25-4cf5-a1b8-4deda5d405aa",
   "metadata": {},
   "outputs": [
    {
     "data": {
      "text/plain": [
       "step                0\n",
       "type                0\n",
       "amount            400\n",
       "nameOrig            0\n",
       "oldbalanceOrg       0\n",
       "newbalanceOrig      0\n",
       "nameDest            0\n",
       "oldbalanceDest      0\n",
       "newbalanceDest      0\n",
       "isFraud             0\n",
       "isFlaggedFraud      0\n",
       "dtype: int64"
      ]
     },
     "execution_count": 65,
     "metadata": {},
     "output_type": "execute_result"
    }
   ],
   "source": [
    "shelom2.isnull().sum()"
   ]
  },
  {
   "cell_type": "markdown",
   "id": "2dfa2e6e-8e7c-4afd-8cde-a81638896665",
   "metadata": {},
   "source": [
    "#### Mengganti **nilai NULL** dengan menggunakan **Median**"
   ]
  },
  {
   "cell_type": "code",
   "execution_count": 66,
   "id": "3ccc6390-2b00-4764-9c36-e73a7faa7ad2",
   "metadata": {},
   "outputs": [],
   "source": [
    "# Mengganti nilai null dengan nilai median\n",
    "median = shelom2['amount'].median()\n",
    "shelom2['amount'] = shelom2['amount'].fillna(median)"
   ]
  },
  {
   "cell_type": "code",
   "execution_count": 67,
   "id": "ba0657ea-7f62-4afc-99ff-0137cf0c6fbe",
   "metadata": {},
   "outputs": [
    {
     "data": {
      "text/plain": [
       "step              0\n",
       "type              0\n",
       "amount            0\n",
       "nameOrig          0\n",
       "oldbalanceOrg     0\n",
       "newbalanceOrig    0\n",
       "nameDest          0\n",
       "oldbalanceDest    0\n",
       "newbalanceDest    0\n",
       "isFraud           0\n",
       "isFlaggedFraud    0\n",
       "dtype: int64"
      ]
     },
     "execution_count": 67,
     "metadata": {},
     "output_type": "execute_result"
    }
   ],
   "source": [
    "shelom2.isnull().sum()"
   ]
  },
  {
   "cell_type": "markdown",
   "id": "02323923-37b4-4f4b-9859-d68a8b2f8c02",
   "metadata": {},
   "source": [
    "## DATA CLEANING\n",
    "#### **Data cleaning** pada data dengan **nilai duplikat**."
   ]
  },
  {
   "cell_type": "code",
   "execution_count": 68,
   "id": "a25d7809-9759-4ef3-8fc7-166aa53ee97e",
   "metadata": {},
   "outputs": [],
   "source": [
    "df = pd.read_csv('PS_20174392719_1491204439457_log-Copy3.csv')\n",
    "shelom3 = df.sample(n=2000)"
   ]
  },
  {
   "cell_type": "code",
   "execution_count": 69,
   "id": "6f4b5f21-c88e-4cd7-8f18-520f8cfe62b9",
   "metadata": {},
   "outputs": [
    {
     "data": {
      "text/plain": [
       "0"
      ]
     },
     "execution_count": 69,
     "metadata": {},
     "output_type": "execute_result"
    }
   ],
   "source": [
    "# Memriksa nilai duplikat\n",
    "shelom3.duplicated().sum()"
   ]
  },
  {
   "cell_type": "code",
   "execution_count": 70,
   "id": "f639d762-163a-4609-8177-af4622d4bde8",
   "metadata": {},
   "outputs": [],
   "source": [
    "# Karna dalam data saya tidak terdapat nilai duplikat maka DataFrame shelom3 kita copy\n",
    "shelom3 = shelom3.copy()"
   ]
  },
  {
   "cell_type": "code",
   "execution_count": 71,
   "id": "4031efa0-bf94-4601-bdba-b9eea35bec05",
   "metadata": {},
   "outputs": [],
   "source": [
    "# Menggabungkan DataFrame shelom3 dengan data yang dicopy\n",
    "shelom3 = pd.concat([shelom3, shelom3], ignore_index=True)"
   ]
  },
  {
   "cell_type": "code",
   "execution_count": 72,
   "id": "3d8d8570-c24d-49ea-9c4d-3dbf8d4a36d7",
   "metadata": {},
   "outputs": [
    {
     "data": {
      "text/plain": [
       "2000"
      ]
     },
     "execution_count": 72,
     "metadata": {},
     "output_type": "execute_result"
    }
   ],
   "source": [
    "# Memriksa nilai duplikat, karna tadi data sudah dicopy maka kita memiliki data yang sudah di duplikat\n",
    "shelom3.duplicated().sum()"
   ]
  },
  {
   "cell_type": "code",
   "execution_count": 73,
   "id": "d763061d-67db-4407-ba82-fbe1dd825773",
   "metadata": {},
   "outputs": [],
   "source": [
    "# Menghilangkan data yang terindikasi data terduplikat\n",
    "shelom3.drop_duplicates(inplace=True)"
   ]
  },
  {
   "cell_type": "code",
   "execution_count": 74,
   "id": "f444ca33-ad4c-4439-8357-37b4d4f87dfd",
   "metadata": {},
   "outputs": [
    {
     "data": {
      "text/plain": [
       "0"
      ]
     },
     "execution_count": 74,
     "metadata": {},
     "output_type": "execute_result"
    }
   ],
   "source": [
    "# Memriksa kembali data yang terduplikat\n",
    "shelom3.duplicated().sum()"
   ]
  },
  {
   "cell_type": "markdown",
   "id": "16032c2c-1b38-454c-9a21-42f0945309e0",
   "metadata": {},
   "source": [
    "## MENGGANTI TIPE DATA\n",
    "#### **Ganti tipe data** salah satu attribute **angka**"
   ]
  },
  {
   "cell_type": "code",
   "execution_count": 81,
   "id": "07fb71e7-5c02-4295-acdc-072d3920801c",
   "metadata": {},
   "outputs": [
    {
     "data": {
      "text/plain": [
       "step                int64\n",
       "type               object\n",
       "amount            float64\n",
       "nameOrig           object\n",
       "oldbalanceOrg     float64\n",
       "newbalanceOrig    float64\n",
       "nameDest           object\n",
       "oldbalanceDest    float64\n",
       "newbalanceDest    float64\n",
       "isFraud             int64\n",
       "isFlaggedFraud      int64\n",
       "dtype: object"
      ]
     },
     "execution_count": 81,
     "metadata": {},
     "output_type": "execute_result"
    }
   ],
   "source": [
    "# Mempriksa tipe data setiap kolom\n",
    "shelom3.dtypes"
   ]
  },
  {
   "cell_type": "code",
   "execution_count": 82,
   "id": "77f52ab5-d987-4ed3-a3ea-d93616004eef",
   "metadata": {},
   "outputs": [],
   "source": [
    "# Mengubah tipe data int64 pada STEP Menjadi object\n",
    "shelom3['step'] = shelom3['step'].astype(object)"
   ]
  },
  {
   "cell_type": "code",
   "execution_count": 83,
   "id": "250ece5a-990f-4a8f-a609-671e40c452e0",
   "metadata": {},
   "outputs": [
    {
     "data": {
      "text/plain": [
       "step               object\n",
       "type               object\n",
       "amount            float64\n",
       "nameOrig           object\n",
       "oldbalanceOrg     float64\n",
       "newbalanceOrig    float64\n",
       "nameDest           object\n",
       "oldbalanceDest    float64\n",
       "newbalanceDest    float64\n",
       "isFraud             int64\n",
       "isFlaggedFraud      int64\n",
       "dtype: object"
      ]
     },
     "execution_count": 83,
     "metadata": {},
     "output_type": "execute_result"
    }
   ],
   "source": [
    "shelom3.dtypes"
   ]
  },
  {
   "cell_type": "markdown",
   "id": "078f752c-1b12-405f-a34a-549d17c96377",
   "metadata": {},
   "source": [
    "## ONE HOT ENCODING\n",
    "#### Melakukan **one hot encoding** pada dataset yang kalian miliki."
   ]
  },
  {
   "cell_type": "code",
   "execution_count": 84,
   "id": "2418c650-bc04-45fb-aded-b225477d4434",
   "metadata": {},
   "outputs": [
    {
     "data": {
      "text/html": [
       "<div>\n",
       "<style scoped>\n",
       "    .dataframe tbody tr th:only-of-type {\n",
       "        vertical-align: middle;\n",
       "    }\n",
       "\n",
       "    .dataframe tbody tr th {\n",
       "        vertical-align: top;\n",
       "    }\n",
       "\n",
       "    .dataframe thead th {\n",
       "        text-align: right;\n",
       "    }\n",
       "</style>\n",
       "<table border=\"1\" class=\"dataframe\">\n",
       "  <thead>\n",
       "    <tr style=\"text-align: right;\">\n",
       "      <th></th>\n",
       "      <th>step</th>\n",
       "      <th>type</th>\n",
       "      <th>amount</th>\n",
       "      <th>nameOrig</th>\n",
       "      <th>oldbalanceOrg</th>\n",
       "      <th>newbalanceOrig</th>\n",
       "      <th>nameDest</th>\n",
       "      <th>oldbalanceDest</th>\n",
       "      <th>newbalanceDest</th>\n",
       "      <th>isFraud</th>\n",
       "      <th>isFlaggedFraud</th>\n",
       "    </tr>\n",
       "  </thead>\n",
       "  <tbody>\n",
       "    <tr>\n",
       "      <th>0</th>\n",
       "      <td>361</td>\n",
       "      <td>DEBIT</td>\n",
       "      <td>2135.60</td>\n",
       "      <td>C2091390360</td>\n",
       "      <td>16554.00</td>\n",
       "      <td>14418.40</td>\n",
       "      <td>C1051221598</td>\n",
       "      <td>1331544.19</td>\n",
       "      <td>1333679.79</td>\n",
       "      <td>0</td>\n",
       "      <td>0</td>\n",
       "    </tr>\n",
       "    <tr>\n",
       "      <th>1</th>\n",
       "      <td>41</td>\n",
       "      <td>PAYMENT</td>\n",
       "      <td>7508.75</td>\n",
       "      <td>C1841954657</td>\n",
       "      <td>26290.61</td>\n",
       "      <td>18781.86</td>\n",
       "      <td>M1662141207</td>\n",
       "      <td>0.00</td>\n",
       "      <td>0.00</td>\n",
       "      <td>0</td>\n",
       "      <td>0</td>\n",
       "    </tr>\n",
       "    <tr>\n",
       "      <th>2</th>\n",
       "      <td>203</td>\n",
       "      <td>TRANSFER</td>\n",
       "      <td>87533.74</td>\n",
       "      <td>C564360062</td>\n",
       "      <td>51342.00</td>\n",
       "      <td>0.00</td>\n",
       "      <td>C34587332</td>\n",
       "      <td>2049547.05</td>\n",
       "      <td>2137080.79</td>\n",
       "      <td>0</td>\n",
       "      <td>0</td>\n",
       "    </tr>\n",
       "    <tr>\n",
       "      <th>3</th>\n",
       "      <td>42</td>\n",
       "      <td>CASH_IN</td>\n",
       "      <td>75182.29</td>\n",
       "      <td>C1824576907</td>\n",
       "      <td>2279.00</td>\n",
       "      <td>77461.29</td>\n",
       "      <td>C591887141</td>\n",
       "      <td>0.00</td>\n",
       "      <td>0.00</td>\n",
       "      <td>0</td>\n",
       "      <td>0</td>\n",
       "    </tr>\n",
       "    <tr>\n",
       "      <th>4</th>\n",
       "      <td>349</td>\n",
       "      <td>PAYMENT</td>\n",
       "      <td>13359.78</td>\n",
       "      <td>C1875453191</td>\n",
       "      <td>52372.00</td>\n",
       "      <td>39012.22</td>\n",
       "      <td>M223317595</td>\n",
       "      <td>0.00</td>\n",
       "      <td>0.00</td>\n",
       "      <td>0</td>\n",
       "      <td>0</td>\n",
       "    </tr>\n",
       "  </tbody>\n",
       "</table>\n",
       "</div>"
      ],
      "text/plain": [
       "  step      type    amount     nameOrig  oldbalanceOrg  newbalanceOrig  \\\n",
       "0  361     DEBIT   2135.60  C2091390360       16554.00        14418.40   \n",
       "1   41   PAYMENT   7508.75  C1841954657       26290.61        18781.86   \n",
       "2  203  TRANSFER  87533.74   C564360062       51342.00            0.00   \n",
       "3   42   CASH_IN  75182.29  C1824576907        2279.00        77461.29   \n",
       "4  349   PAYMENT  13359.78  C1875453191       52372.00        39012.22   \n",
       "\n",
       "      nameDest  oldbalanceDest  newbalanceDest  isFraud  isFlaggedFraud  \n",
       "0  C1051221598      1331544.19      1333679.79        0               0  \n",
       "1  M1662141207            0.00            0.00        0               0  \n",
       "2    C34587332      2049547.05      2137080.79        0               0  \n",
       "3   C591887141            0.00            0.00        0               0  \n",
       "4   M223317595            0.00            0.00        0               0  "
      ]
     },
     "execution_count": 84,
     "metadata": {},
     "output_type": "execute_result"
    }
   ],
   "source": [
    "shelom3.head()"
   ]
  },
  {
   "cell_type": "code",
   "execution_count": 85,
   "id": "01e041e7-ea75-436a-9a71-f1974e645add",
   "metadata": {},
   "outputs": [
    {
     "data": {
      "text/html": [
       "<div>\n",
       "<style scoped>\n",
       "    .dataframe tbody tr th:only-of-type {\n",
       "        vertical-align: middle;\n",
       "    }\n",
       "\n",
       "    .dataframe tbody tr th {\n",
       "        vertical-align: top;\n",
       "    }\n",
       "\n",
       "    .dataframe thead th {\n",
       "        text-align: right;\n",
       "    }\n",
       "</style>\n",
       "<table border=\"1\" class=\"dataframe\">\n",
       "  <thead>\n",
       "    <tr style=\"text-align: right;\">\n",
       "      <th></th>\n",
       "      <th>type</th>\n",
       "      <th>isFraud</th>\n",
       "    </tr>\n",
       "  </thead>\n",
       "  <tbody>\n",
       "    <tr>\n",
       "      <th>0</th>\n",
       "      <td>DEBIT</td>\n",
       "      <td>0</td>\n",
       "    </tr>\n",
       "    <tr>\n",
       "      <th>1</th>\n",
       "      <td>PAYMENT</td>\n",
       "      <td>0</td>\n",
       "    </tr>\n",
       "    <tr>\n",
       "      <th>2</th>\n",
       "      <td>TRANSFER</td>\n",
       "      <td>0</td>\n",
       "    </tr>\n",
       "    <tr>\n",
       "      <th>3</th>\n",
       "      <td>CASH_IN</td>\n",
       "      <td>0</td>\n",
       "    </tr>\n",
       "    <tr>\n",
       "      <th>4</th>\n",
       "      <td>PAYMENT</td>\n",
       "      <td>0</td>\n",
       "    </tr>\n",
       "    <tr>\n",
       "      <th>...</th>\n",
       "      <td>...</td>\n",
       "      <td>...</td>\n",
       "    </tr>\n",
       "    <tr>\n",
       "      <th>1995</th>\n",
       "      <td>CASH_IN</td>\n",
       "      <td>0</td>\n",
       "    </tr>\n",
       "    <tr>\n",
       "      <th>1996</th>\n",
       "      <td>PAYMENT</td>\n",
       "      <td>0</td>\n",
       "    </tr>\n",
       "    <tr>\n",
       "      <th>1997</th>\n",
       "      <td>PAYMENT</td>\n",
       "      <td>0</td>\n",
       "    </tr>\n",
       "    <tr>\n",
       "      <th>1998</th>\n",
       "      <td>CASH_OUT</td>\n",
       "      <td>0</td>\n",
       "    </tr>\n",
       "    <tr>\n",
       "      <th>1999</th>\n",
       "      <td>CASH_OUT</td>\n",
       "      <td>0</td>\n",
       "    </tr>\n",
       "  </tbody>\n",
       "</table>\n",
       "<p>2000 rows × 2 columns</p>\n",
       "</div>"
      ],
      "text/plain": [
       "          type  isFraud\n",
       "0        DEBIT        0\n",
       "1      PAYMENT        0\n",
       "2     TRANSFER        0\n",
       "3      CASH_IN        0\n",
       "4      PAYMENT        0\n",
       "...        ...      ...\n",
       "1995   CASH_IN        0\n",
       "1996   PAYMENT        0\n",
       "1997   PAYMENT        0\n",
       "1998  CASH_OUT        0\n",
       "1999  CASH_OUT        0\n",
       "\n",
       "[2000 rows x 2 columns]"
      ]
     },
     "execution_count": 85,
     "metadata": {},
     "output_type": "execute_result"
    }
   ],
   "source": [
    "# Menampilkan kolom 'type' dan ' isFraud' pada DataFrame shelom3\n",
    "shelom3[['type', 'isFraud']]"
   ]
  },
  {
   "cell_type": "code",
   "execution_count": 86,
   "id": "e6688066-8c3d-4830-9781-488493d0b93c",
   "metadata": {},
   "outputs": [
    {
     "name": "stderr",
     "output_type": "stream",
     "text": [
      "C:\\Users\\Shelom\\AppData\\Roaming\\Python\\Python310\\site-packages\\sklearn\\utils\\validation.py:605: FutureWarning: is_sparse is deprecated and will be removed in a future version. Check `isinstance(dtype, pd.SparseDtype)` instead.\n",
      "  if is_sparse(pd_dtype):\n",
      "C:\\Users\\Shelom\\AppData\\Roaming\\Python\\Python310\\site-packages\\sklearn\\utils\\validation.py:614: FutureWarning: is_sparse is deprecated and will be removed in a future version. Check `isinstance(dtype, pd.SparseDtype)` instead.\n",
      "  if is_sparse(pd_dtype) or not is_extension_array_dtype(pd_dtype):\n",
      "C:\\Users\\Shelom\\AppData\\Roaming\\Python\\Python310\\site-packages\\sklearn\\utils\\validation.py:605: FutureWarning: is_sparse is deprecated and will be removed in a future version. Check `isinstance(dtype, pd.SparseDtype)` instead.\n",
      "  if is_sparse(pd_dtype):\n",
      "C:\\Users\\Shelom\\AppData\\Roaming\\Python\\Python310\\site-packages\\sklearn\\utils\\validation.py:614: FutureWarning: is_sparse is deprecated and will be removed in a future version. Check `isinstance(dtype, pd.SparseDtype)` instead.\n",
      "  if is_sparse(pd_dtype) or not is_extension_array_dtype(pd_dtype):\n",
      "C:\\Users\\Shelom\\AppData\\Roaming\\Python\\Python310\\site-packages\\sklearn\\utils\\validation.py:605: FutureWarning: is_sparse is deprecated and will be removed in a future version. Check `isinstance(dtype, pd.SparseDtype)` instead.\n",
      "  if is_sparse(pd_dtype):\n",
      "C:\\Users\\Shelom\\AppData\\Roaming\\Python\\Python310\\site-packages\\sklearn\\utils\\validation.py:614: FutureWarning: is_sparse is deprecated and will be removed in a future version. Check `isinstance(dtype, pd.SparseDtype)` instead.\n",
      "  if is_sparse(pd_dtype) or not is_extension_array_dtype(pd_dtype):\n",
      "C:\\Users\\Shelom\\AppData\\Roaming\\Python\\Python310\\site-packages\\sklearn\\utils\\validation.py:605: FutureWarning: is_sparse is deprecated and will be removed in a future version. Check `isinstance(dtype, pd.SparseDtype)` instead.\n",
      "  if is_sparse(pd_dtype):\n",
      "C:\\Users\\Shelom\\AppData\\Roaming\\Python\\Python310\\site-packages\\sklearn\\utils\\validation.py:614: FutureWarning: is_sparse is deprecated and will be removed in a future version. Check `isinstance(dtype, pd.SparseDtype)` instead.\n",
      "  if is_sparse(pd_dtype) or not is_extension_array_dtype(pd_dtype):\n"
     ]
    }
   ],
   "source": [
    "# Inisialisasi OneHotEncoder dengan parameter sparse_output=False\n",
    "ohe = OneHotEncoder(sparse_output=False)\n",
    "\n",
    "# Melakukan OneHot encoding pada kolom 'type', dan 'isFraud'\n",
    "encoder = ohe.fit_transform(shelom3[['type', 'isFraud']])"
   ]
  },
  {
   "cell_type": "code",
   "execution_count": 87,
   "id": "87a5137e-13d3-44cf-98c0-03bb421d2714",
   "metadata": {},
   "outputs": [
    {
     "data": {
      "text/html": [
       "<div>\n",
       "<style scoped>\n",
       "    .dataframe tbody tr th:only-of-type {\n",
       "        vertical-align: middle;\n",
       "    }\n",
       "\n",
       "    .dataframe tbody tr th {\n",
       "        vertical-align: top;\n",
       "    }\n",
       "\n",
       "    .dataframe thead th {\n",
       "        text-align: right;\n",
       "    }\n",
       "</style>\n",
       "<table border=\"1\" class=\"dataframe\">\n",
       "  <thead>\n",
       "    <tr style=\"text-align: right;\">\n",
       "      <th></th>\n",
       "      <th>DEBIT</th>\n",
       "      <th>TRANSFER</th>\n",
       "      <th>CASH_OUT</th>\n",
       "      <th>CASH_IN</th>\n",
       "      <th>PAYMENT</th>\n",
       "      <th>FRAUD</th>\n",
       "      <th>NOT FRAUD</th>\n",
       "    </tr>\n",
       "  </thead>\n",
       "  <tbody>\n",
       "    <tr>\n",
       "      <th>0</th>\n",
       "      <td>0.0</td>\n",
       "      <td>0.0</td>\n",
       "      <td>1.0</td>\n",
       "      <td>0.0</td>\n",
       "      <td>0.0</td>\n",
       "      <td>1.0</td>\n",
       "      <td>0.0</td>\n",
       "    </tr>\n",
       "    <tr>\n",
       "      <th>1</th>\n",
       "      <td>0.0</td>\n",
       "      <td>0.0</td>\n",
       "      <td>0.0</td>\n",
       "      <td>1.0</td>\n",
       "      <td>0.0</td>\n",
       "      <td>1.0</td>\n",
       "      <td>0.0</td>\n",
       "    </tr>\n",
       "    <tr>\n",
       "      <th>2</th>\n",
       "      <td>0.0</td>\n",
       "      <td>0.0</td>\n",
       "      <td>0.0</td>\n",
       "      <td>0.0</td>\n",
       "      <td>1.0</td>\n",
       "      <td>1.0</td>\n",
       "      <td>0.0</td>\n",
       "    </tr>\n",
       "    <tr>\n",
       "      <th>3</th>\n",
       "      <td>1.0</td>\n",
       "      <td>0.0</td>\n",
       "      <td>0.0</td>\n",
       "      <td>0.0</td>\n",
       "      <td>0.0</td>\n",
       "      <td>1.0</td>\n",
       "      <td>0.0</td>\n",
       "    </tr>\n",
       "    <tr>\n",
       "      <th>4</th>\n",
       "      <td>0.0</td>\n",
       "      <td>0.0</td>\n",
       "      <td>0.0</td>\n",
       "      <td>1.0</td>\n",
       "      <td>0.0</td>\n",
       "      <td>1.0</td>\n",
       "      <td>0.0</td>\n",
       "    </tr>\n",
       "    <tr>\n",
       "      <th>...</th>\n",
       "      <td>...</td>\n",
       "      <td>...</td>\n",
       "      <td>...</td>\n",
       "      <td>...</td>\n",
       "      <td>...</td>\n",
       "      <td>...</td>\n",
       "      <td>...</td>\n",
       "    </tr>\n",
       "    <tr>\n",
       "      <th>1995</th>\n",
       "      <td>1.0</td>\n",
       "      <td>0.0</td>\n",
       "      <td>0.0</td>\n",
       "      <td>0.0</td>\n",
       "      <td>0.0</td>\n",
       "      <td>1.0</td>\n",
       "      <td>0.0</td>\n",
       "    </tr>\n",
       "    <tr>\n",
       "      <th>1996</th>\n",
       "      <td>0.0</td>\n",
       "      <td>0.0</td>\n",
       "      <td>0.0</td>\n",
       "      <td>1.0</td>\n",
       "      <td>0.0</td>\n",
       "      <td>1.0</td>\n",
       "      <td>0.0</td>\n",
       "    </tr>\n",
       "    <tr>\n",
       "      <th>1997</th>\n",
       "      <td>0.0</td>\n",
       "      <td>0.0</td>\n",
       "      <td>0.0</td>\n",
       "      <td>1.0</td>\n",
       "      <td>0.0</td>\n",
       "      <td>1.0</td>\n",
       "      <td>0.0</td>\n",
       "    </tr>\n",
       "    <tr>\n",
       "      <th>1998</th>\n",
       "      <td>0.0</td>\n",
       "      <td>1.0</td>\n",
       "      <td>0.0</td>\n",
       "      <td>0.0</td>\n",
       "      <td>0.0</td>\n",
       "      <td>1.0</td>\n",
       "      <td>0.0</td>\n",
       "    </tr>\n",
       "    <tr>\n",
       "      <th>1999</th>\n",
       "      <td>0.0</td>\n",
       "      <td>1.0</td>\n",
       "      <td>0.0</td>\n",
       "      <td>0.0</td>\n",
       "      <td>0.0</td>\n",
       "      <td>1.0</td>\n",
       "      <td>0.0</td>\n",
       "    </tr>\n",
       "  </tbody>\n",
       "</table>\n",
       "<p>2000 rows × 7 columns</p>\n",
       "</div>"
      ],
      "text/plain": [
       "      DEBIT  TRANSFER  CASH_OUT  CASH_IN  PAYMENT  FRAUD  NOT FRAUD\n",
       "0       0.0       0.0       1.0      0.0      0.0    1.0        0.0\n",
       "1       0.0       0.0       0.0      1.0      0.0    1.0        0.0\n",
       "2       0.0       0.0       0.0      0.0      1.0    1.0        0.0\n",
       "3       1.0       0.0       0.0      0.0      0.0    1.0        0.0\n",
       "4       0.0       0.0       0.0      1.0      0.0    1.0        0.0\n",
       "...     ...       ...       ...      ...      ...    ...        ...\n",
       "1995    1.0       0.0       0.0      0.0      0.0    1.0        0.0\n",
       "1996    0.0       0.0       0.0      1.0      0.0    1.0        0.0\n",
       "1997    0.0       0.0       0.0      1.0      0.0    1.0        0.0\n",
       "1998    0.0       1.0       0.0      0.0      0.0    1.0        0.0\n",
       "1999    0.0       1.0       0.0      0.0      0.0    1.0        0.0\n",
       "\n",
       "[2000 rows x 7 columns]"
      ]
     },
     "execution_count": 87,
     "metadata": {},
     "output_type": "execute_result"
    }
   ],
   "source": [
    "# Membuat DataFrame baru dengan hasil OneHot Encoding dan menambahkan nama kolom\n",
    "ohe_encoder = pd.DataFrame(encoder, columns=['DEBIT', 'TRANSFER', 'CASH_OUT', 'CASH_IN', 'PAYMENT', 'FRAUD', 'NOT FRAUD', ])\n",
    "ohe_encoder"
   ]
  },
  {
   "cell_type": "code",
   "execution_count": 88,
   "id": "bd0efabb-d564-4951-8461-0bf12832a97e",
   "metadata": {},
   "outputs": [
    {
     "data": {
      "text/html": [
       "<div>\n",
       "<style scoped>\n",
       "    .dataframe tbody tr th:only-of-type {\n",
       "        vertical-align: middle;\n",
       "    }\n",
       "\n",
       "    .dataframe tbody tr th {\n",
       "        vertical-align: top;\n",
       "    }\n",
       "\n",
       "    .dataframe thead th {\n",
       "        text-align: right;\n",
       "    }\n",
       "</style>\n",
       "<table border=\"1\" class=\"dataframe\">\n",
       "  <thead>\n",
       "    <tr style=\"text-align: right;\">\n",
       "      <th></th>\n",
       "      <th>step</th>\n",
       "      <th>type</th>\n",
       "      <th>amount</th>\n",
       "      <th>nameOrig</th>\n",
       "      <th>oldbalanceOrg</th>\n",
       "      <th>newbalanceOrig</th>\n",
       "      <th>nameDest</th>\n",
       "      <th>oldbalanceDest</th>\n",
       "      <th>newbalanceDest</th>\n",
       "      <th>isFraud</th>\n",
       "      <th>isFlaggedFraud</th>\n",
       "      <th>DEBIT</th>\n",
       "      <th>TRANSFER</th>\n",
       "      <th>CASH_OUT</th>\n",
       "      <th>CASH_IN</th>\n",
       "      <th>PAYMENT</th>\n",
       "      <th>FRAUD</th>\n",
       "      <th>NOT FRAUD</th>\n",
       "    </tr>\n",
       "  </thead>\n",
       "  <tbody>\n",
       "    <tr>\n",
       "      <th>0</th>\n",
       "      <td>361</td>\n",
       "      <td>DEBIT</td>\n",
       "      <td>2135.60</td>\n",
       "      <td>C2091390360</td>\n",
       "      <td>16554.00</td>\n",
       "      <td>14418.40</td>\n",
       "      <td>C1051221598</td>\n",
       "      <td>1331544.19</td>\n",
       "      <td>1333679.79</td>\n",
       "      <td>0</td>\n",
       "      <td>0</td>\n",
       "      <td>0.0</td>\n",
       "      <td>0.0</td>\n",
       "      <td>1.0</td>\n",
       "      <td>0.0</td>\n",
       "      <td>0.0</td>\n",
       "      <td>1.0</td>\n",
       "      <td>0.0</td>\n",
       "    </tr>\n",
       "    <tr>\n",
       "      <th>1</th>\n",
       "      <td>41</td>\n",
       "      <td>PAYMENT</td>\n",
       "      <td>7508.75</td>\n",
       "      <td>C1841954657</td>\n",
       "      <td>26290.61</td>\n",
       "      <td>18781.86</td>\n",
       "      <td>M1662141207</td>\n",
       "      <td>0.00</td>\n",
       "      <td>0.00</td>\n",
       "      <td>0</td>\n",
       "      <td>0</td>\n",
       "      <td>0.0</td>\n",
       "      <td>0.0</td>\n",
       "      <td>0.0</td>\n",
       "      <td>1.0</td>\n",
       "      <td>0.0</td>\n",
       "      <td>1.0</td>\n",
       "      <td>0.0</td>\n",
       "    </tr>\n",
       "    <tr>\n",
       "      <th>2</th>\n",
       "      <td>203</td>\n",
       "      <td>TRANSFER</td>\n",
       "      <td>87533.74</td>\n",
       "      <td>C564360062</td>\n",
       "      <td>51342.00</td>\n",
       "      <td>0.00</td>\n",
       "      <td>C34587332</td>\n",
       "      <td>2049547.05</td>\n",
       "      <td>2137080.79</td>\n",
       "      <td>0</td>\n",
       "      <td>0</td>\n",
       "      <td>0.0</td>\n",
       "      <td>0.0</td>\n",
       "      <td>0.0</td>\n",
       "      <td>0.0</td>\n",
       "      <td>1.0</td>\n",
       "      <td>1.0</td>\n",
       "      <td>0.0</td>\n",
       "    </tr>\n",
       "    <tr>\n",
       "      <th>3</th>\n",
       "      <td>42</td>\n",
       "      <td>CASH_IN</td>\n",
       "      <td>75182.29</td>\n",
       "      <td>C1824576907</td>\n",
       "      <td>2279.00</td>\n",
       "      <td>77461.29</td>\n",
       "      <td>C591887141</td>\n",
       "      <td>0.00</td>\n",
       "      <td>0.00</td>\n",
       "      <td>0</td>\n",
       "      <td>0</td>\n",
       "      <td>1.0</td>\n",
       "      <td>0.0</td>\n",
       "      <td>0.0</td>\n",
       "      <td>0.0</td>\n",
       "      <td>0.0</td>\n",
       "      <td>1.0</td>\n",
       "      <td>0.0</td>\n",
       "    </tr>\n",
       "    <tr>\n",
       "      <th>4</th>\n",
       "      <td>349</td>\n",
       "      <td>PAYMENT</td>\n",
       "      <td>13359.78</td>\n",
       "      <td>C1875453191</td>\n",
       "      <td>52372.00</td>\n",
       "      <td>39012.22</td>\n",
       "      <td>M223317595</td>\n",
       "      <td>0.00</td>\n",
       "      <td>0.00</td>\n",
       "      <td>0</td>\n",
       "      <td>0</td>\n",
       "      <td>0.0</td>\n",
       "      <td>0.0</td>\n",
       "      <td>0.0</td>\n",
       "      <td>1.0</td>\n",
       "      <td>0.0</td>\n",
       "      <td>1.0</td>\n",
       "      <td>0.0</td>\n",
       "    </tr>\n",
       "  </tbody>\n",
       "</table>\n",
       "</div>"
      ],
      "text/plain": [
       "  step      type    amount     nameOrig  oldbalanceOrg  newbalanceOrig  \\\n",
       "0  361     DEBIT   2135.60  C2091390360       16554.00        14418.40   \n",
       "1   41   PAYMENT   7508.75  C1841954657       26290.61        18781.86   \n",
       "2  203  TRANSFER  87533.74   C564360062       51342.00            0.00   \n",
       "3   42   CASH_IN  75182.29  C1824576907        2279.00        77461.29   \n",
       "4  349   PAYMENT  13359.78  C1875453191       52372.00        39012.22   \n",
       "\n",
       "      nameDest  oldbalanceDest  newbalanceDest  isFraud  isFlaggedFraud  \\\n",
       "0  C1051221598      1331544.19      1333679.79        0               0   \n",
       "1  M1662141207            0.00            0.00        0               0   \n",
       "2    C34587332      2049547.05      2137080.79        0               0   \n",
       "3   C591887141            0.00            0.00        0               0   \n",
       "4   M223317595            0.00            0.00        0               0   \n",
       "\n",
       "   DEBIT  TRANSFER  CASH_OUT  CASH_IN  PAYMENT  FRAUD  NOT FRAUD  \n",
       "0    0.0       0.0       1.0      0.0      0.0    1.0        0.0  \n",
       "1    0.0       0.0       0.0      1.0      0.0    1.0        0.0  \n",
       "2    0.0       0.0       0.0      0.0      1.0    1.0        0.0  \n",
       "3    1.0       0.0       0.0      0.0      0.0    1.0        0.0  \n",
       "4    0.0       0.0       0.0      1.0      0.0    1.0        0.0  "
      ]
     },
     "execution_count": 88,
     "metadata": {},
     "output_type": "execute_result"
    }
   ],
   "source": [
    "# Menggabungkan DataFrame 'shelom3' dengan DataFrame baru 'ohe_encoder' hasil OneHotEncoder\n",
    "shelom3 = pd.concat([shelom3, ohe_encoder], axis=1)\n",
    "shelom3.head()"
   ]
  },
  {
   "cell_type": "code",
   "execution_count": 89,
   "id": "aec54b8e-6d71-41e8-9725-8a2f0141c601",
   "metadata": {},
   "outputs": [],
   "source": [
    "# Melakukan OneHot Encoding pada kolom 'type' dan 'isFraud' pada DataFrame shelom3\n",
    "shelom_dummies = pd.get_dummies(shelom3[['type', 'isFraud']]).replace(False, 0).replace(True, 1)"
   ]
  },
  {
   "cell_type": "code",
   "execution_count": 90,
   "id": "e3589f5a-90ce-463f-a798-a2375a867001",
   "metadata": {},
   "outputs": [],
   "source": [
    "# Menggabungkan DataFrame shelom3 dengan DataFrame shelom_dummies secara horizontal\n",
    "shelom3 = pd.concat([shelom3, shelom_dummies], axis=1)"
   ]
  },
  {
   "cell_type": "code",
   "execution_count": 91,
   "id": "7db4bc54-6ebc-4ec3-b227-eeb6dd1aa37a",
   "metadata": {},
   "outputs": [
    {
     "data": {
      "text/html": [
       "<div>\n",
       "<style scoped>\n",
       "    .dataframe tbody tr th:only-of-type {\n",
       "        vertical-align: middle;\n",
       "    }\n",
       "\n",
       "    .dataframe tbody tr th {\n",
       "        vertical-align: top;\n",
       "    }\n",
       "\n",
       "    .dataframe thead th {\n",
       "        text-align: right;\n",
       "    }\n",
       "</style>\n",
       "<table border=\"1\" class=\"dataframe\">\n",
       "  <thead>\n",
       "    <tr style=\"text-align: right;\">\n",
       "      <th></th>\n",
       "      <th>step</th>\n",
       "      <th>amount</th>\n",
       "      <th>nameOrig</th>\n",
       "      <th>oldbalanceOrg</th>\n",
       "      <th>newbalanceOrig</th>\n",
       "      <th>nameDest</th>\n",
       "      <th>oldbalanceDest</th>\n",
       "      <th>newbalanceDest</th>\n",
       "      <th>isFlaggedFraud</th>\n",
       "      <th>DEBIT</th>\n",
       "      <th>...</th>\n",
       "      <th>CASH_OUT</th>\n",
       "      <th>CASH_IN</th>\n",
       "      <th>PAYMENT</th>\n",
       "      <th>FRAUD</th>\n",
       "      <th>NOT FRAUD</th>\n",
       "      <th>type_CASH_IN</th>\n",
       "      <th>type_CASH_OUT</th>\n",
       "      <th>type_DEBIT</th>\n",
       "      <th>type_PAYMENT</th>\n",
       "      <th>type_TRANSFER</th>\n",
       "    </tr>\n",
       "  </thead>\n",
       "  <tbody>\n",
       "    <tr>\n",
       "      <th>0</th>\n",
       "      <td>361</td>\n",
       "      <td>2135.60</td>\n",
       "      <td>C2091390360</td>\n",
       "      <td>16554.00</td>\n",
       "      <td>14418.40</td>\n",
       "      <td>C1051221598</td>\n",
       "      <td>1331544.19</td>\n",
       "      <td>1333679.79</td>\n",
       "      <td>0</td>\n",
       "      <td>0.0</td>\n",
       "      <td>...</td>\n",
       "      <td>1.0</td>\n",
       "      <td>0.0</td>\n",
       "      <td>0.0</td>\n",
       "      <td>1.0</td>\n",
       "      <td>0.0</td>\n",
       "      <td>0</td>\n",
       "      <td>0</td>\n",
       "      <td>1</td>\n",
       "      <td>0</td>\n",
       "      <td>0</td>\n",
       "    </tr>\n",
       "    <tr>\n",
       "      <th>1</th>\n",
       "      <td>41</td>\n",
       "      <td>7508.75</td>\n",
       "      <td>C1841954657</td>\n",
       "      <td>26290.61</td>\n",
       "      <td>18781.86</td>\n",
       "      <td>M1662141207</td>\n",
       "      <td>0.00</td>\n",
       "      <td>0.00</td>\n",
       "      <td>0</td>\n",
       "      <td>0.0</td>\n",
       "      <td>...</td>\n",
       "      <td>0.0</td>\n",
       "      <td>1.0</td>\n",
       "      <td>0.0</td>\n",
       "      <td>1.0</td>\n",
       "      <td>0.0</td>\n",
       "      <td>0</td>\n",
       "      <td>0</td>\n",
       "      <td>0</td>\n",
       "      <td>1</td>\n",
       "      <td>0</td>\n",
       "    </tr>\n",
       "    <tr>\n",
       "      <th>2</th>\n",
       "      <td>203</td>\n",
       "      <td>87533.74</td>\n",
       "      <td>C564360062</td>\n",
       "      <td>51342.00</td>\n",
       "      <td>0.00</td>\n",
       "      <td>C34587332</td>\n",
       "      <td>2049547.05</td>\n",
       "      <td>2137080.79</td>\n",
       "      <td>0</td>\n",
       "      <td>0.0</td>\n",
       "      <td>...</td>\n",
       "      <td>0.0</td>\n",
       "      <td>0.0</td>\n",
       "      <td>1.0</td>\n",
       "      <td>1.0</td>\n",
       "      <td>0.0</td>\n",
       "      <td>0</td>\n",
       "      <td>0</td>\n",
       "      <td>0</td>\n",
       "      <td>0</td>\n",
       "      <td>1</td>\n",
       "    </tr>\n",
       "    <tr>\n",
       "      <th>3</th>\n",
       "      <td>42</td>\n",
       "      <td>75182.29</td>\n",
       "      <td>C1824576907</td>\n",
       "      <td>2279.00</td>\n",
       "      <td>77461.29</td>\n",
       "      <td>C591887141</td>\n",
       "      <td>0.00</td>\n",
       "      <td>0.00</td>\n",
       "      <td>0</td>\n",
       "      <td>1.0</td>\n",
       "      <td>...</td>\n",
       "      <td>0.0</td>\n",
       "      <td>0.0</td>\n",
       "      <td>0.0</td>\n",
       "      <td>1.0</td>\n",
       "      <td>0.0</td>\n",
       "      <td>1</td>\n",
       "      <td>0</td>\n",
       "      <td>0</td>\n",
       "      <td>0</td>\n",
       "      <td>0</td>\n",
       "    </tr>\n",
       "    <tr>\n",
       "      <th>4</th>\n",
       "      <td>349</td>\n",
       "      <td>13359.78</td>\n",
       "      <td>C1875453191</td>\n",
       "      <td>52372.00</td>\n",
       "      <td>39012.22</td>\n",
       "      <td>M223317595</td>\n",
       "      <td>0.00</td>\n",
       "      <td>0.00</td>\n",
       "      <td>0</td>\n",
       "      <td>0.0</td>\n",
       "      <td>...</td>\n",
       "      <td>0.0</td>\n",
       "      <td>1.0</td>\n",
       "      <td>0.0</td>\n",
       "      <td>1.0</td>\n",
       "      <td>0.0</td>\n",
       "      <td>0</td>\n",
       "      <td>0</td>\n",
       "      <td>0</td>\n",
       "      <td>1</td>\n",
       "      <td>0</td>\n",
       "    </tr>\n",
       "  </tbody>\n",
       "</table>\n",
       "<p>5 rows × 21 columns</p>\n",
       "</div>"
      ],
      "text/plain": [
       "  step    amount     nameOrig  oldbalanceOrg  newbalanceOrig     nameDest  \\\n",
       "0  361   2135.60  C2091390360       16554.00        14418.40  C1051221598   \n",
       "1   41   7508.75  C1841954657       26290.61        18781.86  M1662141207   \n",
       "2  203  87533.74   C564360062       51342.00            0.00    C34587332   \n",
       "3   42  75182.29  C1824576907        2279.00        77461.29   C591887141   \n",
       "4  349  13359.78  C1875453191       52372.00        39012.22   M223317595   \n",
       "\n",
       "   oldbalanceDest  newbalanceDest  isFlaggedFraud  DEBIT  ...  CASH_OUT  \\\n",
       "0      1331544.19      1333679.79               0    0.0  ...       1.0   \n",
       "1            0.00            0.00               0    0.0  ...       0.0   \n",
       "2      2049547.05      2137080.79               0    0.0  ...       0.0   \n",
       "3            0.00            0.00               0    1.0  ...       0.0   \n",
       "4            0.00            0.00               0    0.0  ...       0.0   \n",
       "\n",
       "   CASH_IN  PAYMENT  FRAUD  NOT FRAUD  type_CASH_IN  type_CASH_OUT  \\\n",
       "0      0.0      0.0    1.0        0.0             0              0   \n",
       "1      1.0      0.0    1.0        0.0             0              0   \n",
       "2      0.0      1.0    1.0        0.0             0              0   \n",
       "3      0.0      0.0    1.0        0.0             1              0   \n",
       "4      1.0      0.0    1.0        0.0             0              0   \n",
       "\n",
       "   type_DEBIT  type_PAYMENT  type_TRANSFER  \n",
       "0           1             0              0  \n",
       "1           0             1              0  \n",
       "2           0             0              1  \n",
       "3           0             0              0  \n",
       "4           0             1              0  \n",
       "\n",
       "[5 rows x 21 columns]"
      ]
     },
     "execution_count": 91,
     "metadata": {},
     "output_type": "execute_result"
    }
   ],
   "source": [
    "# Menghapus kolom 'type', dan 'isFraud' pada DataFrame shelom3\n",
    "shelom3.drop(columns=['type', 'isFraud'], inplace=True)\n",
    "shelom3.head()"
   ]
  }
 ],
 "metadata": {
  "kernelspec": {
   "display_name": "Python 3 (ipykernel)",
   "language": "python",
   "name": "python3"
  },
  "language_info": {
   "codemirror_mode": {
    "name": "ipython",
    "version": 3
   },
   "file_extension": ".py",
   "mimetype": "text/x-python",
   "name": "python",
   "nbconvert_exporter": "python",
   "pygments_lexer": "ipython3",
   "version": "3.10.7"
  }
 },
 "nbformat": 4,
 "nbformat_minor": 5
}
