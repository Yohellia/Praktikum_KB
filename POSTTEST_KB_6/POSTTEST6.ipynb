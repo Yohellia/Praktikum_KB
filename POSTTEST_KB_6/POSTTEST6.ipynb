{
 "cells": [
  {
   "cell_type": "markdown",
   "id": "5dfd2957-181c-4cc7-86a6-86a055c2360e",
   "metadata": {},
   "source": [
    "### NAMA  : SHELOMITA YOHELLIA\n",
    "### NIM : 2209106019\n",
    "### KELAS : A1 2022\n",
    "\n",
    "# **KECERDASAN BUATAN**\n",
    "# **POSTTEST 6**\n",
    "\n",
    "#### Link Dataset : https://www.kaggle.com/datasets/rupakroy/online-payments-fraud-detection-dataset"
   ]
  },
  {
   "cell_type": "markdown",
   "id": "0ddb60ab-b412-4663-9462-b2b0adf42dcf",
   "metadata": {},
   "source": [
    "#### Import library yang digunakan"
   ]
  },
  {
   "cell_type": "code",
   "execution_count": 1,
   "id": "65d9bfd7-62fe-4247-b8f6-8a410f7cc520",
   "metadata": {},
   "outputs": [],
   "source": [
    "import pandas as pd\n",
    "from sklearn.preprocessing import LabelEncoder\n",
    "from sklearn.preprocessing import MinMaxScaler\n",
    "from sklearn.model_selection import train_test_split\n",
    "from sklearn.preprocessing import StandardScaler\n",
    "from sklearn.metrics import accuracy_score\n",
    "from tensorflow.keras.models import Sequential\n",
    "from tensorflow.keras.layers import Dense\n",
    "import matplotlib.pyplot as plt"
   ]
  },
  {
   "cell_type": "markdown",
   "id": "cc51e6f1-e3bb-4b6e-b866-10023f66f6c2",
   "metadata": {},
   "source": [
    "#### Membuka file csv"
   ]
  },
  {
   "cell_type": "code",
   "execution_count": 2,
   "id": "64a6f0dd-c9e4-4cc2-a950-d5b90470504b",
   "metadata": {},
   "outputs": [],
   "source": [
    "df = pd.read_csv('PS_20174392719_1491204439457_log.csv')"
   ]
  },
  {
   "cell_type": "markdown",
   "id": "06690729-a3c3-4863-8329-fd47aaa7ca0f",
   "metadata": {},
   "source": [
    "#### Membuat variable shelom untuk membuat data menjadi 2000 record"
   ]
  },
  {
   "cell_type": "code",
   "execution_count": 3,
   "id": "7669f98c-0ecc-4de8-a1eb-f581e920146f",
   "metadata": {},
   "outputs": [
    {
     "data": {
      "text/html": [
       "<div>\n",
       "<style scoped>\n",
       "    .dataframe tbody tr th:only-of-type {\n",
       "        vertical-align: middle;\n",
       "    }\n",
       "\n",
       "    .dataframe tbody tr th {\n",
       "        vertical-align: top;\n",
       "    }\n",
       "\n",
       "    .dataframe thead th {\n",
       "        text-align: right;\n",
       "    }\n",
       "</style>\n",
       "<table border=\"1\" class=\"dataframe\">\n",
       "  <thead>\n",
       "    <tr style=\"text-align: right;\">\n",
       "      <th></th>\n",
       "      <th>step</th>\n",
       "      <th>type</th>\n",
       "      <th>amount</th>\n",
       "      <th>nameOrig</th>\n",
       "      <th>oldbalanceOrg</th>\n",
       "      <th>newbalanceOrig</th>\n",
       "      <th>nameDest</th>\n",
       "      <th>oldbalanceDest</th>\n",
       "      <th>newbalanceDest</th>\n",
       "      <th>isFraud</th>\n",
       "      <th>isFlaggedFraud</th>\n",
       "    </tr>\n",
       "  </thead>\n",
       "  <tbody>\n",
       "    <tr>\n",
       "      <th>4945562</th>\n",
       "      <td>351</td>\n",
       "      <td>PAYMENT</td>\n",
       "      <td>6005.64</td>\n",
       "      <td>C1411252150</td>\n",
       "      <td>0.0</td>\n",
       "      <td>0.0</td>\n",
       "      <td>M197969478</td>\n",
       "      <td>0.00</td>\n",
       "      <td>0.00</td>\n",
       "      <td>0</td>\n",
       "      <td>0</td>\n",
       "    </tr>\n",
       "    <tr>\n",
       "      <th>5551266</th>\n",
       "      <td>383</td>\n",
       "      <td>CASH_OUT</td>\n",
       "      <td>54205.29</td>\n",
       "      <td>C1341576909</td>\n",
       "      <td>0.0</td>\n",
       "      <td>0.0</td>\n",
       "      <td>C189830940</td>\n",
       "      <td>156518.52</td>\n",
       "      <td>210723.81</td>\n",
       "      <td>0</td>\n",
       "      <td>0</td>\n",
       "    </tr>\n",
       "    <tr>\n",
       "      <th>4005639</th>\n",
       "      <td>298</td>\n",
       "      <td>CASH_OUT</td>\n",
       "      <td>197048.50</td>\n",
       "      <td>C404021200</td>\n",
       "      <td>0.0</td>\n",
       "      <td>0.0</td>\n",
       "      <td>C1485864511</td>\n",
       "      <td>940801.47</td>\n",
       "      <td>1137849.97</td>\n",
       "      <td>0</td>\n",
       "      <td>0</td>\n",
       "    </tr>\n",
       "    <tr>\n",
       "      <th>4164398</th>\n",
       "      <td>304</td>\n",
       "      <td>TRANSFER</td>\n",
       "      <td>10000000.00</td>\n",
       "      <td>C1179115252</td>\n",
       "      <td>0.0</td>\n",
       "      <td>0.0</td>\n",
       "      <td>C1435016891</td>\n",
       "      <td>14191674.43</td>\n",
       "      <td>25371109.98</td>\n",
       "      <td>0</td>\n",
       "      <td>0</td>\n",
       "    </tr>\n",
       "    <tr>\n",
       "      <th>1848771</th>\n",
       "      <td>163</td>\n",
       "      <td>CASH_OUT</td>\n",
       "      <td>207547.75</td>\n",
       "      <td>C1806858178</td>\n",
       "      <td>0.0</td>\n",
       "      <td>0.0</td>\n",
       "      <td>C141316671</td>\n",
       "      <td>12271754.85</td>\n",
       "      <td>12479302.61</td>\n",
       "      <td>0</td>\n",
       "      <td>0</td>\n",
       "    </tr>\n",
       "  </tbody>\n",
       "</table>\n",
       "</div>"
      ],
      "text/plain": [
       "         step      type       amount     nameOrig  oldbalanceOrg  \\\n",
       "4945562   351   PAYMENT      6005.64  C1411252150            0.0   \n",
       "5551266   383  CASH_OUT     54205.29  C1341576909            0.0   \n",
       "4005639   298  CASH_OUT    197048.50   C404021200            0.0   \n",
       "4164398   304  TRANSFER  10000000.00  C1179115252            0.0   \n",
       "1848771   163  CASH_OUT    207547.75  C1806858178            0.0   \n",
       "\n",
       "         newbalanceOrig     nameDest  oldbalanceDest  newbalanceDest  isFraud  \\\n",
       "4945562             0.0   M197969478            0.00            0.00        0   \n",
       "5551266             0.0   C189830940       156518.52       210723.81        0   \n",
       "4005639             0.0  C1485864511       940801.47      1137849.97        0   \n",
       "4164398             0.0  C1435016891     14191674.43     25371109.98        0   \n",
       "1848771             0.0   C141316671     12271754.85     12479302.61        0   \n",
       "\n",
       "         isFlaggedFraud  \n",
       "4945562               0  \n",
       "5551266               0  \n",
       "4005639               0  \n",
       "4164398               0  \n",
       "1848771               0  "
      ]
     },
     "execution_count": 3,
     "metadata": {},
     "output_type": "execute_result"
    }
   ],
   "source": [
    "shelom = df.sample(n=2000)\n",
    "shelom.head()"
   ]
  },
  {
   "cell_type": "markdown",
   "id": "2e939a38-6218-4f17-b0a4-14e5d1fcbc7e",
   "metadata": {},
   "source": [
    "#### Prapemrosesan data"
   ]
  },
  {
   "cell_type": "code",
   "execution_count": 4,
   "id": "8c74eaf3-38e5-4d13-b666-e64178961975",
   "metadata": {},
   "outputs": [
    {
     "name": "stderr",
     "output_type": "stream",
     "text": [
      "C:\\Users\\Shelom\\AppData\\Roaming\\Python\\Python310\\site-packages\\sklearn\\utils\\validation.py:605: FutureWarning: is_sparse is deprecated and will be removed in a future version. Check `isinstance(dtype, pd.SparseDtype)` instead.\n",
      "  if is_sparse(pd_dtype):\n",
      "C:\\Users\\Shelom\\AppData\\Roaming\\Python\\Python310\\site-packages\\sklearn\\utils\\validation.py:614: FutureWarning: is_sparse is deprecated and will be removed in a future version. Check `isinstance(dtype, pd.SparseDtype)` instead.\n",
      "  if is_sparse(pd_dtype) or not is_extension_array_dtype(pd_dtype):\n"
     ]
    }
   ],
   "source": [
    "label_encoder = LabelEncoder()\n",
    "shelom['type'] = label_encoder.fit_transform(shelom['type'])"
   ]
  },
  {
   "cell_type": "code",
   "execution_count": 5,
   "id": "4079176d-b73a-4c06-9e0c-11abfc3c7129",
   "metadata": {},
   "outputs": [
    {
     "name": "stderr",
     "output_type": "stream",
     "text": [
      "C:\\Users\\Shelom\\AppData\\Roaming\\Python\\Python310\\site-packages\\sklearn\\utils\\validation.py:605: FutureWarning: is_sparse is deprecated and will be removed in a future version. Check `isinstance(dtype, pd.SparseDtype)` instead.\n",
      "  if is_sparse(pd_dtype):\n",
      "C:\\Users\\Shelom\\AppData\\Roaming\\Python\\Python310\\site-packages\\sklearn\\utils\\validation.py:614: FutureWarning: is_sparse is deprecated and will be removed in a future version. Check `isinstance(dtype, pd.SparseDtype)` instead.\n",
      "  if is_sparse(pd_dtype) or not is_extension_array_dtype(pd_dtype):\n"
     ]
    }
   ],
   "source": [
    "label_encoder = LabelEncoder()\n",
    "shelom['nameOrig'] = label_encoder.fit_transform(shelom['nameOrig'])"
   ]
  },
  {
   "cell_type": "code",
   "execution_count": 6,
   "id": "b60c2ea9-3d2a-44f5-a4d9-2c0b2b8c4db3",
   "metadata": {},
   "outputs": [
    {
     "name": "stderr",
     "output_type": "stream",
     "text": [
      "C:\\Users\\Shelom\\AppData\\Roaming\\Python\\Python310\\site-packages\\sklearn\\utils\\validation.py:605: FutureWarning: is_sparse is deprecated and will be removed in a future version. Check `isinstance(dtype, pd.SparseDtype)` instead.\n",
      "  if is_sparse(pd_dtype):\n",
      "C:\\Users\\Shelom\\AppData\\Roaming\\Python\\Python310\\site-packages\\sklearn\\utils\\validation.py:614: FutureWarning: is_sparse is deprecated and will be removed in a future version. Check `isinstance(dtype, pd.SparseDtype)` instead.\n",
      "  if is_sparse(pd_dtype) or not is_extension_array_dtype(pd_dtype):\n"
     ]
    }
   ],
   "source": [
    "label_encoder = LabelEncoder()\n",
    "shelom['nameDest'] = label_encoder.fit_transform(shelom['nameDest'])"
   ]
  },
  {
   "cell_type": "markdown",
   "id": "d1fea72e-1c49-42e1-baca-a34a1e43aead",
   "metadata": {},
   "source": [
    "#### Pemisahan fitur X dan label y"
   ]
  },
  {
   "cell_type": "code",
   "execution_count": 7,
   "id": "4e61a1bf-eefe-4140-aecf-0876f4b3e48b",
   "metadata": {},
   "outputs": [],
   "source": [
    "X = shelom[['step', 'type', 'amount', 'oldbalanceOrg', 'newbalanceOrig', 'oldbalanceDest', 'newbalanceDest']]\n",
    "y = shelom['isFraud']"
   ]
  },
  {
   "cell_type": "markdown",
   "id": "c545b13a-d3a9-4016-9323-2d7a3bc6897d",
   "metadata": {},
   "source": [
    "####  Normalisasi data jika variabel-variabel memiliki rentang nilai yang besar."
   ]
  },
  {
   "cell_type": "code",
   "execution_count": 8,
   "id": "eafd8cc1-1bfa-4ff9-b11c-26c83e7180e0",
   "metadata": {},
   "outputs": [
    {
     "name": "stderr",
     "output_type": "stream",
     "text": [
      "C:\\Users\\Shelom\\AppData\\Roaming\\Python\\Python310\\site-packages\\sklearn\\utils\\validation.py:767: FutureWarning: is_sparse is deprecated and will be removed in a future version. Check `isinstance(dtype, pd.SparseDtype)` instead.\n",
      "  if not hasattr(array, \"sparse\") and array.dtypes.apply(is_sparse).any():\n",
      "C:\\Users\\Shelom\\AppData\\Roaming\\Python\\Python310\\site-packages\\sklearn\\utils\\validation.py:605: FutureWarning: is_sparse is deprecated and will be removed in a future version. Check `isinstance(dtype, pd.SparseDtype)` instead.\n",
      "  if is_sparse(pd_dtype):\n",
      "C:\\Users\\Shelom\\AppData\\Roaming\\Python\\Python310\\site-packages\\sklearn\\utils\\validation.py:614: FutureWarning: is_sparse is deprecated and will be removed in a future version. Check `isinstance(dtype, pd.SparseDtype)` instead.\n",
      "  if is_sparse(pd_dtype) or not is_extension_array_dtype(pd_dtype):\n",
      "C:\\Users\\Shelom\\AppData\\Roaming\\Python\\Python310\\site-packages\\sklearn\\utils\\validation.py:767: FutureWarning: is_sparse is deprecated and will be removed in a future version. Check `isinstance(dtype, pd.SparseDtype)` instead.\n",
      "  if not hasattr(array, \"sparse\") and array.dtypes.apply(is_sparse).any():\n",
      "C:\\Users\\Shelom\\AppData\\Roaming\\Python\\Python310\\site-packages\\sklearn\\utils\\validation.py:605: FutureWarning: is_sparse is deprecated and will be removed in a future version. Check `isinstance(dtype, pd.SparseDtype)` instead.\n",
      "  if is_sparse(pd_dtype):\n",
      "C:\\Users\\Shelom\\AppData\\Roaming\\Python\\Python310\\site-packages\\sklearn\\utils\\validation.py:614: FutureWarning: is_sparse is deprecated and will be removed in a future version. Check `isinstance(dtype, pd.SparseDtype)` instead.\n",
      "  if is_sparse(pd_dtype) or not is_extension_array_dtype(pd_dtype):\n"
     ]
    }
   ],
   "source": [
    "scaler = MinMaxScaler()\n",
    "X_normalized = scaler.fit_transform(X)"
   ]
  },
  {
   "cell_type": "markdown",
   "id": "4124a51b-ab9c-4bf4-aa81-3a6af1b5a2ec",
   "metadata": {},
   "source": [
    "#### Pisahkan data menjadi data latih dan data uji"
   ]
  },
  {
   "cell_type": "code",
   "execution_count": 9,
   "id": "5ddbfff8-5ba5-4e09-a96b-f61b57d5f280",
   "metadata": {},
   "outputs": [],
   "source": [
    "X_train, X_test, y_train, y_test = train_test_split(X_normalized, y, test_size=0.2, random_state=42)"
   ]
  },
  {
   "cell_type": "markdown",
   "id": "82c715ed-99cd-491c-a3f2-548c105a9185",
   "metadata": {},
   "source": [
    "#### Membuat model Sequential"
   ]
  },
  {
   "cell_type": "code",
   "execution_count": 10,
   "id": "7f84f00f-020b-49b5-8cb9-03eabb202d8a",
   "metadata": {},
   "outputs": [],
   "source": [
    "model = Sequential()\n",
    "model.add(Dense(units=64, activation='relu', input_dim=X_train.shape[1]))\n",
    "model.add(Dense(units=32, activation='relu'))\n",
    "model.add(Dense(units=1, activation='sigmoid'))"
   ]
  },
  {
   "cell_type": "markdown",
   "id": "bd9f108c-4291-4816-9918-83e22dc407d8",
   "metadata": {},
   "source": [
    "#### Compile model "
   ]
  },
  {
   "cell_type": "code",
   "execution_count": 11,
   "id": "4bae4d6c-678d-4b07-ab25-70a9ef1f6a74",
   "metadata": {},
   "outputs": [],
   "source": [
    "model.compile(optimizer='adam', loss='binary_crossentropy', metrics=['accuracy'])"
   ]
  },
  {
   "cell_type": "markdown",
   "id": "bb47d673-bf4c-42c4-ad1e-335480661ce9",
   "metadata": {},
   "source": [
    "#### Latih Model"
   ]
  },
  {
   "cell_type": "code",
   "execution_count": 12,
   "id": "028df436-d1fd-4971-8610-3d82d50f1d2e",
   "metadata": {},
   "outputs": [
    {
     "name": "stdout",
     "output_type": "stream",
     "text": [
      "Epoch 1/10\n",
      "20/20 [==============================] - 3s 23ms/step - loss: 0.6167 - accuracy: 0.9031 - val_loss: 0.5086 - val_accuracy: 1.0000\n",
      "Epoch 2/10\n",
      "20/20 [==============================] - 0s 7ms/step - loss: 0.4042 - accuracy: 1.0000 - val_loss: 0.2845 - val_accuracy: 1.0000\n",
      "Epoch 3/10\n",
      "20/20 [==============================] - 0s 7ms/step - loss: 0.1928 - accuracy: 1.0000 - val_loss: 0.1103 - val_accuracy: 1.0000\n",
      "Epoch 4/10\n",
      "20/20 [==============================] - 0s 7ms/step - loss: 0.0683 - accuracy: 1.0000 - val_loss: 0.0381 - val_accuracy: 1.0000\n",
      "Epoch 5/10\n",
      "20/20 [==============================] - 0s 9ms/step - loss: 0.0251 - accuracy: 1.0000 - val_loss: 0.0164 - val_accuracy: 1.0000\n",
      "Epoch 6/10\n",
      "20/20 [==============================] - 0s 7ms/step - loss: 0.0120 - accuracy: 1.0000 - val_loss: 0.0090 - val_accuracy: 1.0000\n",
      "Epoch 7/10\n",
      "20/20 [==============================] - 0s 7ms/step - loss: 0.0070 - accuracy: 1.0000 - val_loss: 0.0058 - val_accuracy: 1.0000\n",
      "Epoch 8/10\n",
      "20/20 [==============================] - 0s 7ms/step - loss: 0.0047 - accuracy: 1.0000 - val_loss: 0.0041 - val_accuracy: 1.0000\n",
      "Epoch 9/10\n",
      "20/20 [==============================] - 0s 7ms/step - loss: 0.0034 - accuracy: 1.0000 - val_loss: 0.0031 - val_accuracy: 1.0000\n",
      "Epoch 10/10\n",
      "20/20 [==============================] - 0s 7ms/step - loss: 0.0026 - accuracy: 1.0000 - val_loss: 0.0024 - val_accuracy: 1.0000\n"
     ]
    }
   ],
   "source": [
    "history = model.fit(X_train, y_train, epochs=10, batch_size=64, validation_split=0.2)"
   ]
  },
  {
   "cell_type": "markdown",
   "id": "6f0d76c0-157c-4639-a2b1-c64c6040d62e",
   "metadata": {},
   "source": [
    "#### Evaluasi model"
   ]
  },
  {
   "cell_type": "code",
   "execution_count": 17,
   "id": "343ed9e0-f84e-4ede-bf57-f013556fcd82",
   "metadata": {},
   "outputs": [
    {
     "name": "stdout",
     "output_type": "stream",
     "text": [
      "13/13 [==============================] - 0s 4ms/step - loss: 0.0024 - accuracy: 1.0000\n",
      "Loss\t\t: 0.0023546081501990557\n",
      "Accuracy\t: 1.0\n"
     ]
    }
   ],
   "source": [
    "loss, accuracy = model.evaluate(X_test, y_test)\n",
    "print(f'Loss\\t\\t: {loss}')\n",
    "print(f'Accuracy\\t: {accuracy}')"
   ]
  },
  {
   "cell_type": "markdown",
   "id": "5047083f-f080-42ce-9e8e-2fd21b6bad67",
   "metadata": {},
   "source": [
    "#### Grafik pergerakan metrik (akurasi/error)"
   ]
  },
  {
   "cell_type": "code",
   "execution_count": 18,
   "id": "fe933250-7b92-4552-af70-3a2f31bc459f",
   "metadata": {},
   "outputs": [
    {
     "data": {
      "text/plain": [
       "Text(0.5, 1.0, 'Training and Validation Accuracy')"
      ]
     },
     "execution_count": 18,
     "metadata": {},
     "output_type": "execute_result"
    },
    {
     "data": {
      "image/png": "[encoded data removed]",
      "text/plain": [
       "<Figure size 1200x400 with 1 Axes>"
      ]
     },
     "metadata": {},
     "output_type": "display_data"
    }
   ],
   "source": [
    "plt.figure(figsize=(12, 4))\n",
    "plt.subplot(1, 2, 1)\n",
    "plt.plot(history.history['accuracy'], label='Training Accuracy')\n",
    "plt.plot(history.history['val_accuracy'], label='Validation Accuracy')\n",
    "plt.xlabel('Epoch')\n",
    "plt.ylabel('Accuracy')\n",
    "plt.legend()\n",
    "plt.title('Training and Validation Accuracy')"
   ]
  },
  {
   "cell_type": "markdown",
   "id": "941e3750-01dc-4a02-800a-24970860fb1a",
   "metadata": {},
   "source": [
    "#### Grafik pergerakan metrik loss terhadap epoch"
   ]
  },
  {
   "cell_type": "code",
   "execution_count": 19,
   "id": "98192552-7d70-4dd3-b807-6419e66c300d",
   "metadata": {},
   "outputs": [
    {
     "data": {
      "text/plain": [
       "Text(0.5, 1.0, 'Training and Validation Loss')"
      ]
     },
     "execution_count": 19,
     "metadata": {},
     "output_type": "execute_result"
    },
    {
     "data": {
      "image/png": "[encoded data removed]",
      "text/plain": [
       "<Figure size 640x480 with 1 Axes>"
      ]
     },
     "metadata": {},
     "output_type": "display_data"
    }
   ],
   "source": [
    "plt.subplot(1, 2, 2)\n",
    "plt.plot(history.history['loss'], label='Training Loss')\n",
    "plt.plot(history.history['val_loss'], label='Validation Loss')\n",
    "plt.xlabel('Epoch')\n",
    "plt.ylabel('Loss')\n",
    "plt.legend()\n",
    "plt.title('Training and Validation Loss')"
   ]
  }
 ],
 "metadata": {
  "kernelspec": {
   "display_name": "Python 3 (ipykernel)",
   "language": "python",
   "name": "python3"
  },
  "language_info": {
   "codemirror_mode": {
    "name": "ipython",
    "version": 3
   },
   "file_extension": ".py",
   "mimetype": "text/x-python",
   "name": "python",
   "nbconvert_exporter": "python",
   "pygments_lexer": "ipython3",
   "version": "3.10.7"
  }
 },
 "nbformat": 4,
 "nbformat_minor": 5
}
